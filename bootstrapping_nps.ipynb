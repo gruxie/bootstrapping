{
 "cells": [
  {
   "cell_type": "markdown",
   "metadata": {},
   "source": [
    "# Calculating confidence intervals # \n",
    "Info on how to calculate CFs for any values.  \n",
    "Using this method to calculate .95% confidence intervals for NPS\n",
    "\n",
    "Sources:  \n",
    "[primer on bootstrapping](https://towardsdatascience.com/bootstrapping-using-python-and-r-b112bb4a969e)  \n",
    "[statsmodels.stats](https://www.statsmodels.org/stable/stats.html#)  \n",
    "[numpy.random.choice](https://numpy.org/doc/stable/reference/random/generated/numpy.random.choice.html)  \n",
    "[pydatasets](https://towardsdatascience.com/datasets-in-python-425475a20eb1)  \n",
    "[np way of calculating cf](https://www.statology.org/confidence-intervals-python/) \n",
    "\n",
    "From JP - the idea from R\n",
    "[NPS conf scores](https://www.cybaea.net/Journal/2016/01/14/NPS-confidence-intervals-stats/)  "
   ]
  },
  {
   "cell_type": "code",
   "execution_count": 13,
   "metadata": {},
   "outputs": [],
   "source": [
    "import numpy as np\n",
    "import scipy.stats as st\n",
    "from pydataset import data\n",
    "import matplotlib.pyplot as plt\n",
    "import statsmodels.stats.api as sms\n"
   ]
  },
  {
   "cell_type": "markdown",
   "metadata": {},
   "source": [
    "## Part 1:  Bootstrapping ##"
   ]
  },
  {
   "cell_type": "code",
   "execution_count": 2,
   "metadata": {},
   "outputs": [
    {
     "data": {
      "text/plain": [
       "(array([ 576., 1176., 2184., 1560.,  792.,  840.,  216.,  120.,   96.,\n",
       "          24.]),\n",
       " array([11. , 13.8, 16.6, 19.4, 22.2, 25. , 27.8, 30.6, 33.4, 36.2, 39. ]),\n",
       " <BarContainer object of 10 artists>)"
      ]
     },
     "execution_count": 2,
     "metadata": {},
     "output_type": "execute_result"
    },
    {
     "data": {
      "image/png": "[encoded data removed]",
      "text/plain": [
       "<Figure size 432x288 with 1 Axes>"
      ]
     },
     "metadata": {
      "needs_background": "light"
     },
     "output_type": "display_data"
    }
   ],
   "source": [
    "data()\n",
    "df=data(\"VerbAgg\")\n",
    "df\n",
    "plot=np.histogram(df.Anger)\n",
    "plt.hist(df.Anger)"
   ]
  },
  {
   "cell_type": "code",
   "execution_count": 3,
   "metadata": {},
   "outputs": [
    {
     "data": {
      "text/plain": [
       "20.003164556962027"
      ]
     },
     "execution_count": 3,
     "metadata": {},
     "output_type": "execute_result"
    }
   ],
   "source": [
    "np.mean(df.Anger)"
   ]
  },
  {
   "cell_type": "code",
   "execution_count": 4,
   "metadata": {},
   "outputs": [
    {
     "data": {
      "text/plain": [
       "(19.894192340139163, 20.11213677378489)"
      ]
     },
     "execution_count": 4,
     "metadata": {},
     "output_type": "execute_result"
    }
   ],
   "source": [
    "sms.DescrStatsW(df.Anger).tconfint_mean()"
   ]
  },
  {
   "cell_type": "code",
   "execution_count": 5,
   "metadata": {},
   "outputs": [],
   "source": [
    "my_list=[]"
   ]
  },
  {
   "cell_type": "code",
   "execution_count": 6,
   "metadata": {},
   "outputs": [],
   "source": [
    "for _ in range(5000):\n",
    "    x=np.random.choice(df.Anger,size=300,replace=True)\n",
    "    my_list.append(x.mean())\n"
   ]
  },
  {
   "cell_type": "code",
   "execution_count": 7,
   "metadata": {},
   "outputs": [
    {
     "data": {
      "text/plain": [
       "5000"
      ]
     },
     "execution_count": 7,
     "metadata": {},
     "output_type": "execute_result"
    }
   ],
   "source": [
    "len(my_list)"
   ]
  },
  {
   "cell_type": "code",
   "execution_count": 8,
   "metadata": {},
   "outputs": [
    {
     "data": {
      "text/plain": [
       "(array([  16.,   90.,  454., 1183., 1622., 1116.,  430.,   78.,    9.,\n",
       "           2.]),\n",
       " array([18.97666667, 19.20666667, 19.43666667, 19.66666667, 19.89666667,\n",
       "        20.12666667, 20.35666667, 20.58666667, 20.81666667, 21.04666667,\n",
       "        21.27666667]),\n",
       " <BarContainer object of 10 artists>)"
      ]
     },
     "execution_count": 8,
     "metadata": {},
     "output_type": "execute_result"
    },
    {
     "data": {
      "image/png": "[encoded data removed]",
      "text/plain": [
       "<Figure size 432x288 with 1 Axes>"
      ]
     },
     "metadata": {
      "needs_background": "light"
     },
     "output_type": "display_data"
    }
   ],
   "source": [
    "plt.hist(my_list)"
   ]
  },
  {
   "cell_type": "code",
   "execution_count": 9,
   "metadata": {},
   "outputs": [
    {
     "data": {
      "text/plain": [
       "20.00133466666667"
      ]
     },
     "execution_count": 9,
     "metadata": {},
     "output_type": "execute_result"
    }
   ],
   "source": [
    "np.mean(my_list)"
   ]
  },
  {
   "cell_type": "code",
   "execution_count": 10,
   "metadata": {},
   "outputs": [
    {
     "data": {
      "text/plain": [
       "(19.993562425263086, 20.00910690807025)"
      ]
     },
     "execution_count": 10,
     "metadata": {},
     "output_type": "execute_result"
    }
   ],
   "source": [
    "sms.DescrStatsW(my_list).tconfint_mean()"
   ]
  },
  {
   "cell_type": "markdown",
   "metadata": {},
   "source": [
    "## Part 2:  Applying bootstrapping to NPS ##"
   ]
  },
  {
   "cell_type": "code",
   "execution_count": null,
   "metadata": {},
   "outputs": [],
   "source": [
    "st.norm.interval"
   ]
  }
 ],
 "metadata": {
  "interpreter": {
   "hash": "cc9281332c803117e19a738a7abc7fb6f405ac8c4486567bdf20fdf55db9ce9e"
  },
  "kernelspec": {
   "display_name": "Python 3.10.2 64-bit",
   "language": "python",
   "name": "python3"
  },
  "language_info": {
   "codemirror_mode": {
    "name": "ipython",
    "version": 3
   },
   "file_extension": ".py",
   "mimetype": "text/x-python",
   "name": "python",
   "nbconvert_exporter": "python",
   "pygments_lexer": "ipython3",
   "version": "3.10.2"
  },
  "orig_nbformat": 4
 },
 "nbformat": 4,
 "nbformat_minor": 2
}
